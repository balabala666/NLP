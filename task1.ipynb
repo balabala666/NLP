{
 "cells": [
  {
   "cell_type": "markdown",
   "metadata": {},
   "source": [
    "# 搭建中文分词工具"
   ]
  },
  {
   "cell_type": "code",
   "execution_count": 1,
   "metadata": {},
   "outputs": [
    {
     "name": "stdout",
     "output_type": "stream",
     "text": [
      "[{'辞令': 2.1071789762535106e-05}, {'暮景': 3.334498645933082e-05}, {'太师椅': 1.750484420946574e-05}]\n",
      "词典大小：55735\n",
      "1.0\n"
     ]
    }
   ],
   "source": [
    "from collections import Counter\n",
    "import random\n",
    "import numpy as np\n",
    "with open('../data/cidian.txt','r',encoding='utf-8') as f:\n",
    "    lines = f.readlines()\n",
    "\n",
    "sum = 0\n",
    "# Counter 是实现的 dict 的一个子类，可以用来方便地计数\n",
    "word_prob = Counter()\n",
    "\n",
    "for line in lines:\n",
    "    columns = line.strip().split()\n",
    "#     print(columns)\n",
    "    # 重复词频率直接相加，（相同词多次出现是因为发音不同，即语义也不同，这里不做区分）\n",
    "    word_prob[columns[0]] += int(columns[-1])\n",
    "    sum += int(columns[-1])\n",
    "#     strip() 方法用于移除字符串头尾指定的字符\n",
    "# str2 = \"   Runoob      \";   # 去除首尾空格\n",
    "# print str2.strip();\n",
    "# split() 通过指定分隔符对字符串进行切片\n",
    "# print str.split( );       # 以空格为分隔符，包含 \\n\n",
    "# 频率转为概率\n",
    "for word in word_prob:\n",
    "    word_prob[word] /= sum\n",
    "print([{word: word_prob[word]} for word in random.sample(word_prob.keys(), 3)])\n",
    "print(\"词典大小：%d\" % len(word_prob))\n",
    "print(np.sum(list(word_prob.values())))\n",
    "# print(word_prob)"
   ]
  },
  {
   "cell_type": "code",
   "execution_count": 15,
   "metadata": {},
   "outputs": [
    {
     "name": "stdout",
     "output_type": "stream",
     "text": [
      "[['北京', '的', '天气', '真', '好', '啊'], ['北', '京', '的', '天气', '真', '好', '啊'], ['北京', '的', '天', '气', '真', '好', '啊'], ['北', '京', '的', '天', '气', '真', '好', '啊']]\n"
     ]
    }
   ],
   "source": [
    "def sentence_cut(str):\n",
    "#     思路：状态转移，设M[i]是从句子开始到第i个字所组成句的全切分，word是以字i结尾的可在词典中找到的词，\n",
    "#     则M[i] = M[i-len(word)] + word\n",
    "    memory = [[] for _ in range(len(str))]\n",
    "#     ’_’ 是一个循环标志，也可以用i，j 等其他字母代替，下面的循环中不会用到，起到的是循环此数的作用\n",
    "#     列表解析，链接：https://blog.csdn.net/qq_27361945/article/details/79816843\n",
    "    for i in range(0, len(str)):\n",
    "        for j in range(0, i+1):\n",
    "            # 从开始到当前index视为一个词\n",
    "            if j == 0:\n",
    "                if str[j:i+1] in word_prob:\n",
    "                    memory[i].append([str[j:i+1]])\n",
    "                continue\n",
    "            # 确定依赖的之前状态存在且（达成转移条件：词存在）\n",
    "            if memory[j-1] and str[j:i+1] in word_prob:\n",
    "                for state in memory[j-1]:\n",
    "#                     print(state)\n",
    "#                     print('\\n')\n",
    "#                     print(str[j:i+1])\n",
    "                    memory[i].append(state+[str[j:i+1]])\n",
    "#     print(memory)\n",
    "    return memory[-1]\n",
    "print(sentence_cut(\"北京的天气真好啊\"))"
   ]
  },
  {
   "cell_type": "markdown",
   "metadata": {},
   "source": [
    "循环所有的分词结果，并计算出概率最高的分词结果，并返回"
   ]
  },
  {
   "cell_type": "code",
   "execution_count": 30,
   "metadata": {},
   "outputs": [
    {
     "name": "stdout",
     "output_type": "stream",
     "text": [
      "['经常', '有意', '见', '分歧']\n"
     ]
    }
   ],
   "source": [
    "import math \n",
    "def word_segment(str):\n",
    "    # 计算所有可能的分词结果，要保证每个分完的词存在于词典里,调用上面的函数\n",
    "    segments = sentence_cut(str)\n",
    "    best_score = 0\n",
    "    best_segment = list()\n",
    "    for seg in segments:\n",
    "        if seg:\n",
    "            score = 0\n",
    "            for word in seg:\n",
    "                #使用log是为了防止太多0.00000000~1导致下溢\n",
    "                score += math.log(word_prob[word])\n",
    "            if best_score == 0:\n",
    "                best_score = score\n",
    "                best_segment = seg\n",
    "            else:\n",
    "                if score > best_score:\n",
    "                    best_score = score\n",
    "                    best_segment = seg\n",
    "    return best_segment\n",
    "\n",
    "def sentence_cut(str):\n",
    "    memory = [[] for _ in range(len(str))]\n",
    "    for i in range(0, len(str)):\n",
    "        for j in range(0, i+1):\n",
    "            if j == 0:\n",
    "                if str[j:i+1] in word_prob:\n",
    "                    memory[i].append([str[j:i+1]])\n",
    "                continue\n",
    "            if memory[j-1] and str[j:i+1] in word_prob:\n",
    "                for state in memory[j-1]:\n",
    "                    memory[i].append(state+[str[j:i+1]])\n",
    "    return memory[-1]\n",
    "\n",
    "print(word_segment(\"经常有意见分歧\"))"
   ]
  },
  {
   "cell_type": "markdown",
   "metadata": {},
   "source": [
    "# 维特比算法\n",
    "原方法将分词和计算概率分开，这里使用状态转移的方法将二者同时进行"
   ]
  },
  {
   "cell_type": "code",
   "execution_count": 31,
   "metadata": {},
   "outputs": [
    {
     "name": "stdout",
     "output_type": "stream",
     "text": [
      "['经常', '有意', '见', '分歧']\n"
     ]
    }
   ],
   "source": [
    "import math\n",
    "def word_segment_viterbi(str):\n",
    "    # 第一步：根据词典，输入的句子，以及给定的unigram概率来创建带权重的有向图（Directed Graph）\n",
    "    #      有向图的每一条边是一个单词的概率（只要存在于词典里的都可以作为一个合法的单词），这些概率在 word_prob，如果不在word_prob里的单词但在\n",
    "    #      词典里存在的，统一用概率值1e-100。\n",
    "    # 图是为了直观起见，边表示字或词及其概率，节点存储状态，图有没有其实无所谓，从本质上讲其实就是个状态转移算法\n",
    "    # 每个节点的状态包含-log(P)和当前最优切分\n",
    "    memory = [[0,[]] for _ in range(len(str)+1)]\n",
    "     # 第二步： 利用维特比算法来找出最好的PATH， 这个PATH是P(sentence)最大或者 -log P(sentence)最小的PATH。\n",
    "    # 第三步： 根据最好的PATH, 返回最好的切分\n",
    "    for i in range(1, len(str)+1):\n",
    "        for j in range(i):\n",
    "            word = str[j:i]\n",
    "            #查询本地词典里这个词的概率\n",
    "#             prob = word_prob[word] if word in word_prob else 1e-100\n",
    "            if word in word_prob:\n",
    "                prob = word_prob[word]\n",
    "            else: \n",
    "                prob = 1e-100\n",
    "            score = memory[j][0] - math.log(prob)\n",
    "            # 状态更新\n",
    "            if memory[i][0] == 0:\n",
    "                memory[i][0] = score\n",
    "                memory[i][1] = memory[j][1] + [word]\n",
    "            else:\n",
    "                if score < memory[i][0]:\n",
    "                    memory[i][0] = score\n",
    "                    memory[i][1] = memory[j][1] + [word]\n",
    "#     print(memory)\n",
    "    return memory[-1][-1]\n",
    "segments = word_segment_viterbi(\"经常有意见分歧\")\n",
    "print(segments)"
   ]
  },
  {
   "cell_type": "markdown",
   "metadata": {},
   "source": [
    "链接：https://zhuanlan.zhihu.com/p/95599399"
   ]
  }
 ],
 "metadata": {
  "kernelspec": {
   "display_name": "Python 3",
   "language": "python",
   "name": "python3"
  },
  "language_info": {
   "codemirror_mode": {
    "name": "ipython",
    "version": 3
   },
   "file_extension": ".py",
   "mimetype": "text/x-python",
   "name": "python",
   "nbconvert_exporter": "python",
   "pygments_lexer": "ipython3",
   "version": "3.7.2"
  }
 },
 "nbformat": 4,
 "nbformat_minor": 2
}
